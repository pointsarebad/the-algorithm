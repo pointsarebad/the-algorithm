{
 "cells": [
  {
   "cell_type": "code",
   "execution_count": 1,
   "id": "97879055-4e5f-40e8-802a-01abe8b88412",
   "metadata": {
    "tags": []
   },
   "outputs": [],
   "source": [
    "import pandas as pd\n",
    "import lightgbm as lgb"
   ]
  },
  {
   "cell_type": "code",
   "execution_count": 2,
   "id": "9d3aa6ee-170f-4f87-ae81-78dd70827113",
   "metadata": {
    "tags": []
   },
   "outputs": [
    {
     "data": {
      "text/plain": [
       "{'Albania',\n",
       " 'Austria',\n",
       " 'Belgium',\n",
       " 'Croatia',\n",
       " 'Czech Republic',\n",
       " 'Denmark',\n",
       " 'England',\n",
       " 'France',\n",
       " 'Georgia',\n",
       " 'Germany',\n",
       " 'Hungary',\n",
       " 'Italy',\n",
       " 'Netherlands',\n",
       " 'Poland',\n",
       " 'Portugal',\n",
       " 'Romania',\n",
       " 'Scotland',\n",
       " 'Serbia',\n",
       " 'Slovakia',\n",
       " 'Slovenia',\n",
       " 'Spain',\n",
       " 'Switzerland',\n",
       " 'Turkey',\n",
       " 'Ukraine'}"
      ]
     },
     "execution_count": 2,
     "metadata": {},
     "output_type": "execute_result"
    }
   ],
   "source": [
    "def get_all_teams():\n",
    "    df_results = pd.read_csv(\"data/results.csv\")\n",
    "    df_results.tail()\n",
    "    teams = df_results[(df_results[\"tournament\"] == \"UEFA Euro\") & (df_results[\"date\"].str.contains(\"2024\"))][[\"home_team\",\"away_team\"]].dropna()\n",
    "    return set(teams[\"home_team\"]) | set(teams[\"away_team\"])\n",
    "\n",
    "teams = get_all_teams()\n",
    "teams"
   ]
  },
  {
   "cell_type": "code",
   "execution_count": 3,
   "id": "3b0ea0f4-af43-468e-b11e-4158465dc6fe",
   "metadata": {
    "tags": []
   },
   "outputs": [
    {
     "name": "stdout",
     "output_type": "stream",
     "text": [
      "['Zimbabwe', 'Yemen', 'Western Sahara', 'Vietnam', 'Venezuela', 'Uzbekistan', 'United States Minor Outlying Islands', 'United States', 'United Kingdom', 'United Arab Emirates', 'Ukraine', 'Turkmenistan', 'Turkey', 'Tokelau', 'Timor-Leste', 'Syrian Arab Republic', 'Switzerland', 'Sweden', 'Svalbard and Jan Mayen', 'Suriname', 'South Korea', 'South Georgia and the South Sandwich Islands', 'Slovenia', 'Singapore', 'Sierra Leone', 'Seychelles', 'Serbia', 'Senegal', 'Sao Tome and Principe', 'Saint Vincent and the Grenadines', 'Saint Pierre and Miquelon', 'Saint Kitts and Nevis', 'Saint Helena, Ascension and Tristan da Cunha', 'Saint Barthélemy', 'Reunion', 'Puerto Rico', 'Philippines', 'Peru', 'Papua New Guinea', 'Palestinian Territory, Occupied', 'Northern Mariana Islands', 'Niue', 'Nigeria', 'Niger', 'New Zealand', 'New Caledonia', 'Netherlands Antilles', 'Netherlands', 'Nepal', 'Mozambique', 'Montserrat', 'Montenegro', 'Moldova, Republic of', 'Micronesia, Federated States of', 'Mexico', 'Mayotte', 'Martinique', 'Maldives', 'Macedonia, the former Yugoslav Republic of', 'Luxembourg', 'Liechtenstein', 'Liberia', 'Lesotho', 'Lebanon', \"Lao People's Democratic Republic\", \"Korea, Democratic People's Republic of\", 'Kenya', 'Jersey', 'Israel', 'Isle of Man', 'Ireland', 'Indonesia', 'Iceland', 'Holy See (Vatican City State)', 'Heard Island and McDonald Islands', 'Guinea-Bissau', 'Guinea', 'Guernsey', 'Guatemala', 'Guadeloupe', 'Grenada', 'Greenland', 'Greece', 'Germany', 'Georgia', 'French Southern Territories', 'French Polynesia', 'French Guiana', 'France', 'Faroe Islands', 'Ethiopia', 'Estonia', 'Eritrea', 'Equatorial Guinea', 'El Salvador', 'Egypt', 'Ecuador', 'Dominican Republic', 'Denmark', 'Czech Republic', 'Congo (Brazzaville)', 'Cocos (Keeling) Islands', 'Chile', 'Central African Republic', 'Cape Verde', 'Cameroon', \"Côte d'Ivoire\", 'Brunei Darussalam', 'British Indian Ocean Territory', 'Bouvet Island', 'Bosnia and Herzegovina', 'Bermuda', 'Benin', 'Belize', 'Belgium', 'Belarus', 'Bangladesh', 'Azerbaijan', 'Armenia', 'Argentina', 'American Samoa', 'Algeria', 'England']\n"
     ]
    }
   ],
   "source": [
    "df_iso = pd.read_csv(\"data/iso.csv\")\n",
    "print([i for i in df_iso[\"English short name lower case\"] if (\"e\" in i.lower())])"
   ]
  },
  {
   "cell_type": "code",
   "execution_count": 7,
   "id": "f212d6e2-3a62-4dfe-a67f-c48c09968f55",
   "metadata": {
    "tags": []
   },
   "outputs": [
    {
     "data": {
      "text/plain": [
       "{'Ukraine': ('UA', 1867.0),\n",
       " 'Turkey': ('TR', 1757.0),\n",
       " 'Switzerland': ('CH', 1806.0),\n",
       " 'Spain': ('ES', 2019.0),\n",
       " 'Slovenia': ('SI', 1741.0),\n",
       " 'Slovakia': ('SK', 1655.0),\n",
       " 'Serbia': ('RS', 1783.0),\n",
       " 'Romania': ('RO', 1657.0),\n",
       " 'Portugal': ('PT', 2015.0),\n",
       " 'Poland': ('PL', 1721.0),\n",
       " 'Netherlands': ('NL', 1968.0),\n",
       " 'Italy': ('IT', 1949.0),\n",
       " 'Hungary': ('HU', 1828.0),\n",
       " 'Germany': ('DE', 1917.0),\n",
       " 'Georgia': ('GE', 1650.0),\n",
       " 'France': ('FR', 2086.0),\n",
       " 'Denmark': ('DK', 1826.0),\n",
       " 'Czech Republic': ('CZ', 1772.0),\n",
       " 'Croatia': ('HR', 1955.0),\n",
       " 'Belgium': ('BE', 1987.0),\n",
       " 'Austria': ('AT', 1862.0),\n",
       " 'Albania': ('AL', 1614.0),\n",
       " 'England': ('EN', 2000.0),\n",
       " 'Scotland': ('SQ', 1776.0)}"
      ]
     },
     "execution_count": 7,
     "metadata": {},
     "output_type": "execute_result"
    }
   ],
   "source": [
    "def get_elos():\n",
    "    df_iso = pd.read_csv(\"data/iso.csv\")\n",
    "    df_elo = pd.read_csv(\"data/elo.csv\", index_col=0)\n",
    "    \n",
    "    df_iso = df_iso[df_iso[\"English short name lower case\"].isin(teams)].rename(columns={\n",
    "        \"English short name lower case\":\"country\",\n",
    "        \"Alpha-2 code\": \"code\"\n",
    "    })[[\"country\",\"code\"]]\n",
    "    \n",
    "    return {\n",
    "        row[\"country\"]: (row[\"code\"], float(df_elo.loc[row[\"code\"], \"2024\"]))\n",
    "        for _, row in df_iso.iterrows()\n",
    "    }\n",
    "    \n",
    "get_elos()"
   ]
  },
  {
   "cell_type": "code",
   "execution_count": 8,
   "id": "781439a9-f370-4ad0-ae16-bb7979cdeb28",
   "metadata": {
    "tags": []
   },
   "outputs": [],
   "source": [
    "loaded_model = lgb.Booster(model_file='lightgbm_model.txt')"
   ]
  },
  {
   "cell_type": "code",
   "execution_count": 12,
   "id": "7746f4f5-74ca-41dd-85c5-ecc94ae1fe0b",
   "metadata": {},
   "outputs": [
    {
     "data": {
      "text/plain": [
       "\u001b[0;31mSignature:\u001b[0m\n",
       "\u001b[0mloaded_model\u001b[0m\u001b[0;34m.\u001b[0m\u001b[0mpredict\u001b[0m\u001b[0;34m(\u001b[0m\u001b[0;34m\u001b[0m\n",
       "\u001b[0;34m\u001b[0m    \u001b[0mdata\u001b[0m\u001b[0;34m:\u001b[0m \u001b[0mUnion\u001b[0m\u001b[0;34m[\u001b[0m\u001b[0mstr\u001b[0m\u001b[0;34m,\u001b[0m \u001b[0mpathlib\u001b[0m\u001b[0;34m.\u001b[0m\u001b[0mPath\u001b[0m\u001b[0;34m,\u001b[0m \u001b[0mnumpy\u001b[0m\u001b[0;34m.\u001b[0m\u001b[0mndarray\u001b[0m\u001b[0;34m,\u001b[0m \u001b[0mpandas\u001b[0m\u001b[0;34m.\u001b[0m\u001b[0mcore\u001b[0m\u001b[0;34m.\u001b[0m\u001b[0mframe\u001b[0m\u001b[0;34m.\u001b[0m\u001b[0mDataFrame\u001b[0m\u001b[0;34m,\u001b[0m \u001b[0mlightgbm\u001b[0m\u001b[0;34m.\u001b[0m\u001b[0mcompat\u001b[0m\u001b[0;34m.\u001b[0m\u001b[0mdt_DataTable\u001b[0m\u001b[0;34m,\u001b[0m \u001b[0mscipy\u001b[0m\u001b[0;34m.\u001b[0m\u001b[0msparse\u001b[0m\u001b[0;34m.\u001b[0m\u001b[0m_matrix\u001b[0m\u001b[0;34m.\u001b[0m\u001b[0mspmatrix\u001b[0m\u001b[0;34m,\u001b[0m \u001b[0mpyarrow\u001b[0m\u001b[0;34m.\u001b[0m\u001b[0mlib\u001b[0m\u001b[0;34m.\u001b[0m\u001b[0mTable\u001b[0m\u001b[0;34m]\u001b[0m\u001b[0;34m,\u001b[0m\u001b[0;34m\u001b[0m\n",
       "\u001b[0;34m\u001b[0m    \u001b[0mstart_iteration\u001b[0m\u001b[0;34m:\u001b[0m \u001b[0mint\u001b[0m \u001b[0;34m=\u001b[0m \u001b[0;36m0\u001b[0m\u001b[0;34m,\u001b[0m\u001b[0;34m\u001b[0m\n",
       "\u001b[0;34m\u001b[0m    \u001b[0mnum_iteration\u001b[0m\u001b[0;34m:\u001b[0m \u001b[0mOptional\u001b[0m\u001b[0;34m[\u001b[0m\u001b[0mint\u001b[0m\u001b[0;34m]\u001b[0m \u001b[0;34m=\u001b[0m \u001b[0;32mNone\u001b[0m\u001b[0;34m,\u001b[0m\u001b[0;34m\u001b[0m\n",
       "\u001b[0;34m\u001b[0m    \u001b[0mraw_score\u001b[0m\u001b[0;34m:\u001b[0m \u001b[0mbool\u001b[0m \u001b[0;34m=\u001b[0m \u001b[0;32mFalse\u001b[0m\u001b[0;34m,\u001b[0m\u001b[0;34m\u001b[0m\n",
       "\u001b[0;34m\u001b[0m    \u001b[0mpred_leaf\u001b[0m\u001b[0;34m:\u001b[0m \u001b[0mbool\u001b[0m \u001b[0;34m=\u001b[0m \u001b[0;32mFalse\u001b[0m\u001b[0;34m,\u001b[0m\u001b[0;34m\u001b[0m\n",
       "\u001b[0;34m\u001b[0m    \u001b[0mpred_contrib\u001b[0m\u001b[0;34m:\u001b[0m \u001b[0mbool\u001b[0m \u001b[0;34m=\u001b[0m \u001b[0;32mFalse\u001b[0m\u001b[0;34m,\u001b[0m\u001b[0;34m\u001b[0m\n",
       "\u001b[0;34m\u001b[0m    \u001b[0mdata_has_header\u001b[0m\u001b[0;34m:\u001b[0m \u001b[0mbool\u001b[0m \u001b[0;34m=\u001b[0m \u001b[0;32mFalse\u001b[0m\u001b[0;34m,\u001b[0m\u001b[0;34m\u001b[0m\n",
       "\u001b[0;34m\u001b[0m    \u001b[0mvalidate_features\u001b[0m\u001b[0;34m:\u001b[0m \u001b[0mbool\u001b[0m \u001b[0;34m=\u001b[0m \u001b[0;32mFalse\u001b[0m\u001b[0;34m,\u001b[0m\u001b[0;34m\u001b[0m\n",
       "\u001b[0;34m\u001b[0m    \u001b[0;34m**\u001b[0m\u001b[0mkwargs\u001b[0m\u001b[0;34m:\u001b[0m \u001b[0mAny\u001b[0m\u001b[0;34m,\u001b[0m\u001b[0;34m\u001b[0m\n",
       "\u001b[0;34m\u001b[0m\u001b[0;34m)\u001b[0m \u001b[0;34m->\u001b[0m \u001b[0mUnion\u001b[0m\u001b[0;34m[\u001b[0m\u001b[0mnumpy\u001b[0m\u001b[0;34m.\u001b[0m\u001b[0mndarray\u001b[0m\u001b[0;34m,\u001b[0m \u001b[0mscipy\u001b[0m\u001b[0;34m.\u001b[0m\u001b[0msparse\u001b[0m\u001b[0;34m.\u001b[0m\u001b[0m_matrix\u001b[0m\u001b[0;34m.\u001b[0m\u001b[0mspmatrix\u001b[0m\u001b[0;34m,\u001b[0m \u001b[0mList\u001b[0m\u001b[0;34m[\u001b[0m\u001b[0mscipy\u001b[0m\u001b[0;34m.\u001b[0m\u001b[0msparse\u001b[0m\u001b[0;34m.\u001b[0m\u001b[0m_matrix\u001b[0m\u001b[0;34m.\u001b[0m\u001b[0mspmatrix\u001b[0m\u001b[0;34m]\u001b[0m\u001b[0;34m]\u001b[0m\u001b[0;34m\u001b[0m\u001b[0;34m\u001b[0m\u001b[0m\n",
       "\u001b[0;31mDocstring:\u001b[0m\n",
       "Make a prediction.\n",
       "\n",
       "Parameters\n",
       "----------\n",
       "data : str, pathlib.Path, numpy array, pandas DataFrame, pyarrow Table, H2O DataTable's Frame or scipy.sparse\n",
       "    Data source for prediction.\n",
       "    If str or pathlib.Path, it represents the path to a text file (CSV, TSV, or LibSVM).\n",
       "start_iteration : int, optional (default=0)\n",
       "    Start index of the iteration to predict.\n",
       "    If <= 0, starts from the first iteration.\n",
       "num_iteration : int or None, optional (default=None)\n",
       "    Total number of iterations used in the prediction.\n",
       "    If None, if the best iteration exists and start_iteration <= 0, the best iteration is used;\n",
       "    otherwise, all iterations from ``start_iteration`` are used (no limits).\n",
       "    If <= 0, all iterations from ``start_iteration`` are used (no limits).\n",
       "raw_score : bool, optional (default=False)\n",
       "    Whether to predict raw scores.\n",
       "pred_leaf : bool, optional (default=False)\n",
       "    Whether to predict leaf index.\n",
       "pred_contrib : bool, optional (default=False)\n",
       "    Whether to predict feature contributions.\n",
       "\n",
       "    .. note::\n",
       "\n",
       "        If you want to get more explanations for your model's predictions using SHAP values,\n",
       "        like SHAP interaction values,\n",
       "        you can install the shap package (https://github.com/slundberg/shap).\n",
       "        Note that unlike the shap package, with ``pred_contrib`` we return a matrix with an extra\n",
       "        column, where the last column is the expected value.\n",
       "\n",
       "data_has_header : bool, optional (default=False)\n",
       "    Whether the data has header.\n",
       "    Used only if data is str.\n",
       "validate_features : bool, optional (default=False)\n",
       "    If True, ensure that the features used to predict match the ones used to train.\n",
       "    Used only if data is pandas DataFrame.\n",
       "**kwargs\n",
       "    Other parameters for the prediction.\n",
       "\n",
       "Returns\n",
       "-------\n",
       "result : numpy array, scipy.sparse or list of scipy.sparse\n",
       "    Prediction result.\n",
       "    Can be sparse or a list of sparse objects (each element represents predictions for one class) for feature contributions (when ``pred_contrib=True``).\n",
       "\u001b[0;31mFile:\u001b[0m      /opt/anaconda3/envs/py311/lib/python3.11/site-packages/lightgbm/basic.py\n",
       "\u001b[0;31mType:\u001b[0m      method"
      ]
     },
     "metadata": {},
     "output_type": "display_data"
    }
   ],
   "source": [
    "loaded_model.predict("
   ]
  },
  {
   "cell_type": "code",
   "execution_count": null,
   "id": "edbd7293-6722-4ca0-9dde-7fd81801e3dc",
   "metadata": {},
   "outputs": [],
   "source": []
  }
 ],
 "metadata": {
  "kernelspec": {
   "display_name": "Python 3 (ipykernel)",
   "language": "python",
   "name": "python3"
  },
  "language_info": {
   "codemirror_mode": {
    "name": "ipython",
    "version": 3
   },
   "file_extension": ".py",
   "mimetype": "text/x-python",
   "name": "python",
   "nbconvert_exporter": "python",
   "pygments_lexer": "ipython3",
   "version": "3.12.3"
  }
 },
 "nbformat": 4,
 "nbformat_minor": 5
}
