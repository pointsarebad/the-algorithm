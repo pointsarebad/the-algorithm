{
 "cells": [
  {
   "cell_type": "code",
   "execution_count": 1,
   "id": "610c31e9-fd8f-46b7-a7db-291033d90264",
   "metadata": {
    "tags": []
   },
   "outputs": [],
   "source": [
    "!pip install matplotlib scikit-learn lightgbm --quiet"
   ]
  },
  {
   "cell_type": "code",
   "execution_count": 2,
   "id": "4b8c83d8-856f-443e-ac75-1fe3ac63088b",
   "metadata": {
    "tags": []
   },
   "outputs": [],
   "source": [
    "import pandas as pd\n",
    "pd.options.mode.chained_assignment = None"
   ]
  },
  {
   "cell_type": "code",
   "execution_count": 3,
   "id": "76fefd2e-fc77-4796-8c2e-755d6e2d7210",
   "metadata": {
    "tags": []
   },
   "outputs": [
    {
     "data": {
      "text/html": [
       "<div>\n",
       "<style scoped>\n",
       "    .dataframe tbody tr th:only-of-type {\n",
       "        vertical-align: middle;\n",
       "    }\n",
       "\n",
       "    .dataframe tbody tr th {\n",
       "        vertical-align: top;\n",
       "    }\n",
       "\n",
       "    .dataframe thead th {\n",
       "        text-align: right;\n",
       "    }\n",
       "</style>\n",
       "<table border=\"1\" class=\"dataframe\">\n",
       "  <thead>\n",
       "    <tr style=\"text-align: right;\">\n",
       "      <th></th>\n",
       "      <th>date</th>\n",
       "      <th>home_team</th>\n",
       "      <th>away_team</th>\n",
       "      <th>home_score</th>\n",
       "      <th>away_score</th>\n",
       "      <th>tournament</th>\n",
       "      <th>city</th>\n",
       "      <th>country</th>\n",
       "      <th>neutral</th>\n",
       "    </tr>\n",
       "  </thead>\n",
       "  <tbody>\n",
       "    <tr>\n",
       "      <th>0</th>\n",
       "      <td>1872-11-30</td>\n",
       "      <td>Scotland</td>\n",
       "      <td>England</td>\n",
       "      <td>0.0</td>\n",
       "      <td>0.0</td>\n",
       "      <td>Friendly</td>\n",
       "      <td>Glasgow</td>\n",
       "      <td>Scotland</td>\n",
       "      <td>False</td>\n",
       "    </tr>\n",
       "    <tr>\n",
       "      <th>1</th>\n",
       "      <td>1873-03-08</td>\n",
       "      <td>England</td>\n",
       "      <td>Scotland</td>\n",
       "      <td>4.0</td>\n",
       "      <td>2.0</td>\n",
       "      <td>Friendly</td>\n",
       "      <td>London</td>\n",
       "      <td>England</td>\n",
       "      <td>False</td>\n",
       "    </tr>\n",
       "    <tr>\n",
       "      <th>2</th>\n",
       "      <td>1874-03-07</td>\n",
       "      <td>Scotland</td>\n",
       "      <td>England</td>\n",
       "      <td>2.0</td>\n",
       "      <td>1.0</td>\n",
       "      <td>Friendly</td>\n",
       "      <td>Glasgow</td>\n",
       "      <td>Scotland</td>\n",
       "      <td>False</td>\n",
       "    </tr>\n",
       "    <tr>\n",
       "      <th>3</th>\n",
       "      <td>1875-03-06</td>\n",
       "      <td>England</td>\n",
       "      <td>Scotland</td>\n",
       "      <td>2.0</td>\n",
       "      <td>2.0</td>\n",
       "      <td>Friendly</td>\n",
       "      <td>London</td>\n",
       "      <td>England</td>\n",
       "      <td>False</td>\n",
       "    </tr>\n",
       "    <tr>\n",
       "      <th>4</th>\n",
       "      <td>1876-03-04</td>\n",
       "      <td>Scotland</td>\n",
       "      <td>England</td>\n",
       "      <td>3.0</td>\n",
       "      <td>0.0</td>\n",
       "      <td>Friendly</td>\n",
       "      <td>Glasgow</td>\n",
       "      <td>Scotland</td>\n",
       "      <td>False</td>\n",
       "    </tr>\n",
       "  </tbody>\n",
       "</table>\n",
       "</div>"
      ],
      "text/plain": [
       "         date home_team away_team  home_score  away_score tournament     city  \\\n",
       "0  1872-11-30  Scotland   England         0.0         0.0   Friendly  Glasgow   \n",
       "1  1873-03-08   England  Scotland         4.0         2.0   Friendly   London   \n",
       "2  1874-03-07  Scotland   England         2.0         1.0   Friendly  Glasgow   \n",
       "3  1875-03-06   England  Scotland         2.0         2.0   Friendly   London   \n",
       "4  1876-03-04  Scotland   England         3.0         0.0   Friendly  Glasgow   \n",
       "\n",
       "    country  neutral  \n",
       "0  Scotland    False  \n",
       "1   England    False  \n",
       "2  Scotland    False  \n",
       "3   England    False  \n",
       "4  Scotland    False  "
      ]
     },
     "execution_count": 3,
     "metadata": {},
     "output_type": "execute_result"
    }
   ],
   "source": [
    "df_results = pd.read_csv(\"data/results.csv\")\n",
    "df_results.head()"
   ]
  },
  {
   "cell_type": "code",
   "execution_count": 4,
   "id": "6e5581e6-f8b1-43b7-b395-4f4ac051fb91",
   "metadata": {
    "tags": []
   },
   "outputs": [
    {
     "data": {
      "text/html": [
       "<div>\n",
       "<style scoped>\n",
       "    .dataframe tbody tr th:only-of-type {\n",
       "        vertical-align: middle;\n",
       "    }\n",
       "\n",
       "    .dataframe tbody tr th {\n",
       "        vertical-align: top;\n",
       "    }\n",
       "\n",
       "    .dataframe thead th {\n",
       "        text-align: right;\n",
       "    }\n",
       "</style>\n",
       "<table border=\"1\" class=\"dataframe\">\n",
       "  <thead>\n",
       "    <tr style=\"text-align: right;\">\n",
       "      <th></th>\n",
       "      <th>English short name lower case</th>\n",
       "      <th>Alpha-2 code</th>\n",
       "      <th>Alpha-3 code</th>\n",
       "      <th>Numeric code</th>\n",
       "      <th>ISO 3166-2</th>\n",
       "    </tr>\n",
       "  </thead>\n",
       "  <tbody>\n",
       "    <tr>\n",
       "      <th>0</th>\n",
       "      <td>Zimbabwe</td>\n",
       "      <td>ZW</td>\n",
       "      <td>ZWE</td>\n",
       "      <td>716</td>\n",
       "      <td>ISO 3166-2:ZW</td>\n",
       "    </tr>\n",
       "    <tr>\n",
       "      <th>1</th>\n",
       "      <td>Zambia</td>\n",
       "      <td>ZM</td>\n",
       "      <td>ZMB</td>\n",
       "      <td>894</td>\n",
       "      <td>ISO 3166-2:ZM</td>\n",
       "    </tr>\n",
       "    <tr>\n",
       "      <th>2</th>\n",
       "      <td>Yemen</td>\n",
       "      <td>YE</td>\n",
       "      <td>YEM</td>\n",
       "      <td>887</td>\n",
       "      <td>ISO 3166-2:YE</td>\n",
       "    </tr>\n",
       "    <tr>\n",
       "      <th>3</th>\n",
       "      <td>Western Sahara</td>\n",
       "      <td>EH</td>\n",
       "      <td>ESH</td>\n",
       "      <td>732</td>\n",
       "      <td>ISO 3166-2:EH</td>\n",
       "    </tr>\n",
       "    <tr>\n",
       "      <th>4</th>\n",
       "      <td>Wallis and Futuna</td>\n",
       "      <td>WF</td>\n",
       "      <td>WLF</td>\n",
       "      <td>876</td>\n",
       "      <td>ISO 3166-2:WF</td>\n",
       "    </tr>\n",
       "  </tbody>\n",
       "</table>\n",
       "</div>"
      ],
      "text/plain": [
       "  English short name lower case Alpha-2 code Alpha-3 code Numeric code  \\\n",
       "0                      Zimbabwe           ZW          ZWE          716   \n",
       "1                        Zambia           ZM          ZMB          894   \n",
       "2                         Yemen           YE          YEM          887   \n",
       "3                Western Sahara           EH          ESH          732   \n",
       "4             Wallis and Futuna           WF          WLF          876   \n",
       "\n",
       "      ISO 3166-2  \n",
       "0  ISO 3166-2:ZW  \n",
       "1  ISO 3166-2:ZM  \n",
       "2  ISO 3166-2:YE  \n",
       "3  ISO 3166-2:EH  \n",
       "4  ISO 3166-2:WF  "
      ]
     },
     "execution_count": 4,
     "metadata": {},
     "output_type": "execute_result"
    }
   ],
   "source": [
    "df_iso = pd.read_csv(\"data/iso.csv\")\n",
    "df_iso.head()"
   ]
  },
  {
   "cell_type": "code",
   "execution_count": 5,
   "id": "11523ecf-ce92-4a83-be5b-176852744b3e",
   "metadata": {
    "tags": []
   },
   "outputs": [
    {
     "data": {
      "text/html": [
       "<div>\n",
       "<style scoped>\n",
       "    .dataframe tbody tr th:only-of-type {\n",
       "        vertical-align: middle;\n",
       "    }\n",
       "\n",
       "    .dataframe tbody tr th {\n",
       "        vertical-align: top;\n",
       "    }\n",
       "\n",
       "    .dataframe thead th {\n",
       "        text-align: right;\n",
       "    }\n",
       "</style>\n",
       "<table border=\"1\" class=\"dataframe\">\n",
       "  <thead>\n",
       "    <tr style=\"text-align: right;\">\n",
       "      <th></th>\n",
       "      <th>1910</th>\n",
       "      <th>1911</th>\n",
       "      <th>1912</th>\n",
       "      <th>1913</th>\n",
       "      <th>1914</th>\n",
       "      <th>1915</th>\n",
       "      <th>1916</th>\n",
       "      <th>1917</th>\n",
       "      <th>1918</th>\n",
       "      <th>1919</th>\n",
       "      <th>...</th>\n",
       "      <th>2015</th>\n",
       "      <th>2016</th>\n",
       "      <th>2017</th>\n",
       "      <th>2018</th>\n",
       "      <th>2019</th>\n",
       "      <th>2020</th>\n",
       "      <th>2021</th>\n",
       "      <th>2022</th>\n",
       "      <th>2023</th>\n",
       "      <th>2024</th>\n",
       "    </tr>\n",
       "  </thead>\n",
       "  <tbody>\n",
       "    <tr>\n",
       "      <th>EN</th>\n",
       "      <td>2146.0</td>\n",
       "      <td>2145.0</td>\n",
       "      <td>2212.0</td>\n",
       "      <td>2173.0</td>\n",
       "      <td>2067.0</td>\n",
       "      <td>2067.0</td>\n",
       "      <td>2067.0</td>\n",
       "      <td>2067.0</td>\n",
       "      <td>2067.0</td>\n",
       "      <td>2036.0</td>\n",
       "      <td>...</td>\n",
       "      <td>1960.0</td>\n",
       "      <td>1929.0</td>\n",
       "      <td>1933.0</td>\n",
       "      <td>1960.0</td>\n",
       "      <td>1956.0</td>\n",
       "      <td>1962.0</td>\n",
       "      <td>2032.0</td>\n",
       "      <td>1967.0</td>\n",
       "      <td>2015.0</td>\n",
       "      <td>2000.0</td>\n",
       "    </tr>\n",
       "    <tr>\n",
       "      <th>DK</th>\n",
       "      <td>2017.0</td>\n",
       "      <td>2009.0</td>\n",
       "      <td>2033.0</td>\n",
       "      <td>2051.0</td>\n",
       "      <td>2069.0</td>\n",
       "      <td>2074.0</td>\n",
       "      <td>2044.0</td>\n",
       "      <td>2041.0</td>\n",
       "      <td>2019.0</td>\n",
       "      <td>1974.0</td>\n",
       "      <td>...</td>\n",
       "      <td>1727.0</td>\n",
       "      <td>1716.0</td>\n",
       "      <td>1841.0</td>\n",
       "      <td>1898.0</td>\n",
       "      <td>1891.0</td>\n",
       "      <td>1927.0</td>\n",
       "      <td>1937.0</td>\n",
       "      <td>1883.0</td>\n",
       "      <td>1825.0</td>\n",
       "      <td>1826.0</td>\n",
       "    </tr>\n",
       "    <tr>\n",
       "      <th>AR</th>\n",
       "      <td>1956.0</td>\n",
       "      <td>1952.0</td>\n",
       "      <td>1939.0</td>\n",
       "      <td>1957.0</td>\n",
       "      <td>1948.0</td>\n",
       "      <td>1953.0</td>\n",
       "      <td>1981.0</td>\n",
       "      <td>1987.0</td>\n",
       "      <td>1998.0</td>\n",
       "      <td>1940.0</td>\n",
       "      <td>...</td>\n",
       "      <td>2023.0</td>\n",
       "      <td>2045.0</td>\n",
       "      <td>1984.0</td>\n",
       "      <td>1914.0</td>\n",
       "      <td>1967.0</td>\n",
       "      <td>1991.0</td>\n",
       "      <td>2101.0</td>\n",
       "      <td>2143.0</td>\n",
       "      <td>2138.0</td>\n",
       "      <td>2139.0</td>\n",
       "    </tr>\n",
       "    <tr>\n",
       "      <th>UY</th>\n",
       "      <td>1935.0</td>\n",
       "      <td>1939.0</td>\n",
       "      <td>1952.0</td>\n",
       "      <td>1936.0</td>\n",
       "      <td>1933.0</td>\n",
       "      <td>1928.0</td>\n",
       "      <td>1904.0</td>\n",
       "      <td>1956.0</td>\n",
       "      <td>1945.0</td>\n",
       "      <td>1988.0</td>\n",
       "      <td>...</td>\n",
       "      <td>1947.0</td>\n",
       "      <td>1914.0</td>\n",
       "      <td>1866.0</td>\n",
       "      <td>1923.0</td>\n",
       "      <td>1966.0</td>\n",
       "      <td>1953.0</td>\n",
       "      <td>1847.0</td>\n",
       "      <td>1905.0</td>\n",
       "      <td>2007.0</td>\n",
       "      <td>1992.0</td>\n",
       "    </tr>\n",
       "    <tr>\n",
       "      <th>NL</th>\n",
       "      <td>1915.0</td>\n",
       "      <td>1932.0</td>\n",
       "      <td>1967.0</td>\n",
       "      <td>1948.0</td>\n",
       "      <td>1952.0</td>\n",
       "      <td>1952.0</td>\n",
       "      <td>1952.0</td>\n",
       "      <td>1952.0</td>\n",
       "      <td>1952.0</td>\n",
       "      <td>1920.0</td>\n",
       "      <td>...</td>\n",
       "      <td>1898.0</td>\n",
       "      <td>1889.0</td>\n",
       "      <td>1895.0</td>\n",
       "      <td>1985.0</td>\n",
       "      <td>2017.0</td>\n",
       "      <td>1994.0</td>\n",
       "      <td>1929.0</td>\n",
       "      <td>2073.0</td>\n",
       "      <td>1970.0</td>\n",
       "      <td>1968.0</td>\n",
       "    </tr>\n",
       "  </tbody>\n",
       "</table>\n",
       "<p>5 rows × 115 columns</p>\n",
       "</div>"
      ],
      "text/plain": [
       "      1910    1911    1912    1913    1914    1915    1916    1917    1918  \\\n",
       "EN  2146.0  2145.0  2212.0  2173.0  2067.0  2067.0  2067.0  2067.0  2067.0   \n",
       "DK  2017.0  2009.0  2033.0  2051.0  2069.0  2074.0  2044.0  2041.0  2019.0   \n",
       "AR  1956.0  1952.0  1939.0  1957.0  1948.0  1953.0  1981.0  1987.0  1998.0   \n",
       "UY  1935.0  1939.0  1952.0  1936.0  1933.0  1928.0  1904.0  1956.0  1945.0   \n",
       "NL  1915.0  1932.0  1967.0  1948.0  1952.0  1952.0  1952.0  1952.0  1952.0   \n",
       "\n",
       "      1919  ...    2015    2016    2017    2018    2019    2020    2021  \\\n",
       "EN  2036.0  ...  1960.0  1929.0  1933.0  1960.0  1956.0  1962.0  2032.0   \n",
       "DK  1974.0  ...  1727.0  1716.0  1841.0  1898.0  1891.0  1927.0  1937.0   \n",
       "AR  1940.0  ...  2023.0  2045.0  1984.0  1914.0  1967.0  1991.0  2101.0   \n",
       "UY  1988.0  ...  1947.0  1914.0  1866.0  1923.0  1966.0  1953.0  1847.0   \n",
       "NL  1920.0  ...  1898.0  1889.0  1895.0  1985.0  2017.0  1994.0  1929.0   \n",
       "\n",
       "      2022    2023    2024  \n",
       "EN  1967.0  2015.0  2000.0  \n",
       "DK  1883.0  1825.0  1826.0  \n",
       "AR  2143.0  2138.0  2139.0  \n",
       "UY  1905.0  2007.0  1992.0  \n",
       "NL  2073.0  1970.0  1968.0  \n",
       "\n",
       "[5 rows x 115 columns]"
      ]
     },
     "execution_count": 5,
     "metadata": {},
     "output_type": "execute_result"
    }
   ],
   "source": [
    "df_elo = pd.read_csv(\"data/elo.csv\", index_col=0)\n",
    "df_elo.head()"
   ]
  },
  {
   "cell_type": "markdown",
   "id": "a8c10244-e1f0-41dc-a650-cb3cf6b53989",
   "metadata": {},
   "source": [
    "---"
   ]
  },
  {
   "cell_type": "code",
   "execution_count": 6,
   "id": "f002e2bf-1e4b-4d3f-82e3-3eb980c92279",
   "metadata": {
    "tags": []
   },
   "outputs": [],
   "source": [
    "def remove_extras_and_add_year(df_results: pd.DataFrame) -> pd.DataFrame:\n",
    "    df = df_results[[\"date\", \"home_team\", \"away_team\", \"home_score\", \"away_score\", \"tournament\"]].copy()\n",
    "    df = df.dropna(axis=0)\n",
    "    \n",
    "    df[\"year\"] = df[\"date\"].apply(lambda x: x[:4])\n",
    "    df[\"is_friendly\"] = df[\"tournament\"].apply(lambda x: True if x.lower() == \"friendly\" else False)\n",
    "    \n",
    "    return df.drop(columns=[\"date\", \"tournament\"]) "
   ]
  },
  {
   "cell_type": "code",
   "execution_count": 7,
   "id": "0037278c-664d-4dab-a454-73f91aa88244",
   "metadata": {},
   "outputs": [],
   "source": [
    "def remove_iso_columns(df_iso: pd.DataFrame) -> pd.DataFrame:\n",
    "    return df_iso[[\"English short name lower case\", \"Alpha-2 code\"]].rename(columns={\n",
    "        \"English short name lower case\": \"country\",\n",
    "        \"Alpha-2 code\": \"code\",\n",
    "    })"
   ]
  },
  {
   "cell_type": "code",
   "execution_count": 8,
   "id": "db7ec049-6805-4ca2-86c4-f3ff01f0a007",
   "metadata": {
    "tags": []
   },
   "outputs": [],
   "source": [
    "def combine_results_and_iso(df_results: pd.DataFrame, df_iso: pd.DataFrame) -> pd.DataFrame:\n",
    "    return pd.merge(\n",
    "        left=pd.merge(\n",
    "            left=df_results,\n",
    "            right=df_iso,\n",
    "            left_on=\"home_team\",\n",
    "            right_on=\"country\",\n",
    "            how=\"inner\",\n",
    "        ).drop(columns=[\"country\", \"home_team\"]).rename(columns={\n",
    "            \"code\": \"home\"\n",
    "        }),\n",
    "        right=df_iso,\n",
    "        left_on=\"away_team\",\n",
    "        right_on=\"country\",\n",
    "        how=\"inner\",\n",
    "    ).drop(columns=[\"country\", \"away_team\"]).rename(columns={\n",
    "        \"code\": \"away\"\n",
    "    })"
   ]
  },
  {
   "cell_type": "code",
   "execution_count": 9,
   "id": "d1679afa-407e-4960-abad-d78ad49534aa",
   "metadata": {
    "tags": []
   },
   "outputs": [],
   "source": [
    "def set_elos(\n",
    "    df_combined: pd.DataFrame,\n",
    "    df_elo: pd.DataFrame,\n",
    "    min_year: int | str | None = None,\n",
    "    max_goals: int | None = None,\n",
    ") -> pd.DataFrame:\n",
    "    if min_year is None:\n",
    "        years = set(df_elo.columns)\n",
    "    else:\n",
    "        years = {c for c in df_elo.columns if c >= str(min_year)}\n",
    "\n",
    "    countries = set(df_elo.index)\n",
    "    \n",
    "    df_filtered = df_combined[df_combined[\"year\"].isin(years) & df_combined[\"home\"].isin(countries) & df_combined[\"away\"].isin(countries)]\n",
    "    \n",
    "    df_filtered.loc[:, \"home_elo\"] = df_filtered.apply(lambda row: df_elo.loc[row[\"home\"], row[\"year\"]], axis=1)\n",
    "    df_filtered.loc[:, \"away_elo\"] = df_filtered.apply(lambda row: df_elo.loc[row[\"away\"], row[\"year\"]], axis=1)\n",
    "    \n",
    "    df_filtered = df_filtered.dropna()\n",
    "    \n",
    "    df_home = pd.DataFrame({\n",
    "        \"code\": df_filtered[\"home\"],\n",
    "        \"home\": df_filtered[\"home_elo\"].astype(int),\n",
    "        \"away\": df_filtered[\"away_elo\"].astype(int),\n",
    "        \"is_friendly\": df_filtered[\"is_friendly\"].astype(bool),\n",
    "        \"scored\": df_filtered[\"home_score\"].astype(int),\n",
    "    })\n",
    "    \n",
    "    df_away = pd.DataFrame({\n",
    "        \"code\": df_filtered[\"away\"],\n",
    "        \"home\": df_filtered[\"away_elo\"].astype(int),\n",
    "        \"away\": df_filtered[\"home_elo\"].astype(int),\n",
    "        \"is_friendly\": df_filtered[\"is_friendly\"].astype(bool),\n",
    "        \"scored\": df_filtered[\"away_score\"].astype(int),\n",
    "    })\n",
    "    \n",
    "    df_set_elos = pd.concat([df_home, df_away], ignore_index=True)\n",
    "    \n",
    "    if max_goals and max_goals > 0:\n",
    "        df_set_elos = df_set_elos[df_set_elos[\"scored\"] <= max_goals]\n",
    "        \n",
    "    return df_set_elos\n",
    "    "
   ]
  },
  {
   "cell_type": "code",
   "execution_count": 10,
   "id": "0bbf14bc-7204-4f3a-8f95-a0ef85d7d467",
   "metadata": {
    "tags": []
   },
   "outputs": [],
   "source": [
    "def add_scoring_power(df_set_elos: pd.DataFrame) -> pd.DataFrame:\n",
    "    df_power = df_set_elos[[\"code\",\"scored\"]].groupby(\"code\").mean(\"scored\").reset_index().rename(columns={\"scored\":\"power\"})\n",
    "    \n",
    "    return pd.merge(\n",
    "        left=df_set_elos,\n",
    "        right=df_power,\n",
    "        how=\"inner\",\n",
    "        left_on=\"code\",\n",
    "        right_on=\"code\",\n",
    "    )"
   ]
  },
  {
   "cell_type": "code",
   "execution_count": 11,
   "id": "56ad5cd1-8864-48e6-87ef-7625d5991083",
   "metadata": {
    "tags": []
   },
   "outputs": [],
   "source": [
    "def create_dataset(df_powers: pd.DataFrame) -> pd.DataFrame:\n",
    "    df = df_powers[[\"power\", \"is_friendly\", \"scored\"]]\n",
    "    df[\"elo_diff\"] = df_powers.apply(lambda row: row[\"home\"] - row[\"away\"], axis=1)\n",
    "    \n",
    "    return df"
   ]
  },
  {
   "cell_type": "markdown",
   "id": "51132c08-f857-41a7-9785-a9a1d89623dc",
   "metadata": {},
   "source": [
    "---"
   ]
  },
  {
   "cell_type": "code",
   "execution_count": 12,
   "id": "d5ebbfb5-ef69-4133-b0e6-6b5957f0f51d",
   "metadata": {
    "tags": []
   },
   "outputs": [],
   "source": [
    "def run_dataset_pipeline(\n",
    "    df_results: pd.DataFrame, \n",
    "    df_iso: pd.DataFrame, \n",
    "    df_elo: pd.DataFrame,\n",
    "    min_year: int | str | None = None,\n",
    "    max_goals: int | None = None,\n",
    ") -> pd.DataFrame:\n",
    "    df_filtered_results = remove_extras_and_add_year(df_results)\n",
    "    df_filtered_iso = remove_iso_columns(df_iso)\n",
    "    \n",
    "    df_combined = combine_results_and_iso(df_filtered_results, df_filtered_iso)\n",
    "    del df_filtered_results, df_filtered_iso\n",
    "    \n",
    "    df_set_elos = set_elos(df_combined, df_elo, min_year=min_year, max_goals=max_goals)\n",
    "    del df_combined\n",
    "    \n",
    "    df_powers = add_scoring_power(df_set_elos)\n",
    "    del df_set_elos\n",
    "    \n",
    "    return create_dataset(df_powers)"
   ]
  },
  {
   "cell_type": "code",
   "execution_count": 13,
   "id": "3e09cc0a-22c5-4ea5-bc24-5d81dbff0a1c",
   "metadata": {
    "tags": []
   },
   "outputs": [],
   "source": [
    "def run_country_stats_pipeline(\n",
    "    df_results: pd.DataFrame, \n",
    "    df_iso: pd.DataFrame, \n",
    "    df_elo: pd.DataFrame,\n",
    "    min_year: int | str | None = None,\n",
    "    max_goals: int | None = None,\n",
    ") -> pd.DataFrame:\n",
    "    df_filtered_results = remove_extras_and_add_year(df_results)\n",
    "    df_filtered_iso = remove_iso_columns(df_iso)\n",
    "    \n",
    "    df_combined = combine_results_and_iso(df_filtered_results, df_filtered_iso)\n",
    "    del df_filtered_results, df_filtered_iso\n",
    "    \n",
    "    df_set_elos = set_elos(df_combined, df_elo, min_year=min_year, max_goals=max_goals)\n",
    "    del df_combined\n",
    "    \n",
    "    df_powers = df_set_elos[[\"code\",\"scored\"]].groupby(\"code\").mean(\"scored\").reset_index().rename(columns={\"scored\":\"power\"})\n",
    "    del df_set_elos\n",
    "    \n",
    "    df_powers[\"elo\"] = [df_elo.loc[country, \"2024\"] for country in df_powers[\"code\"]]\n",
    "    \n",
    "    # Adding these back in here as to not disrupt the flow of the dataset pipeline\n",
    "    country_lookup = df_iso.set_index(\"Alpha-2 code\")[\"English short name lower case\"]\n",
    "    df_powers[\"name\"] = [country_lookup.loc[code] for code in df_powers[\"code\"]]\n",
    "    \n",
    "    return df_powers.set_index(\"code\")"
   ]
  },
  {
   "cell_type": "markdown",
   "id": "108bbfb3-3471-42bf-b4f5-21a8202f1b42",
   "metadata": {},
   "source": [
    "---"
   ]
  },
  {
   "cell_type": "code",
   "execution_count": 14,
   "id": "f24d4f43-b1a6-435c-ba9a-a577e840bd69",
   "metadata": {
    "tags": []
   },
   "outputs": [
    {
     "data": {
      "text/html": [
       "<div>\n",
       "<style scoped>\n",
       "    .dataframe tbody tr th:only-of-type {\n",
       "        vertical-align: middle;\n",
       "    }\n",
       "\n",
       "    .dataframe tbody tr th {\n",
       "        vertical-align: top;\n",
       "    }\n",
       "\n",
       "    .dataframe thead th {\n",
       "        text-align: right;\n",
       "    }\n",
       "</style>\n",
       "<table border=\"1\" class=\"dataframe\">\n",
       "  <thead>\n",
       "    <tr style=\"text-align: right;\">\n",
       "      <th></th>\n",
       "      <th>power</th>\n",
       "      <th>elo</th>\n",
       "      <th>name</th>\n",
       "    </tr>\n",
       "    <tr>\n",
       "      <th>code</th>\n",
       "      <th></th>\n",
       "      <th></th>\n",
       "      <th></th>\n",
       "    </tr>\n",
       "  </thead>\n",
       "  <tbody>\n",
       "    <tr>\n",
       "      <th>AD</th>\n",
       "      <td>0.540541</td>\n",
       "      <td>1113.0</td>\n",
       "      <td>Andorra</td>\n",
       "    </tr>\n",
       "    <tr>\n",
       "      <th>AE</th>\n",
       "      <td>1.511628</td>\n",
       "      <td>1508.0</td>\n",
       "      <td>United Arab Emirates</td>\n",
       "    </tr>\n",
       "    <tr>\n",
       "      <th>AF</th>\n",
       "      <td>1.000000</td>\n",
       "      <td>1114.0</td>\n",
       "      <td>Afghanistan</td>\n",
       "    </tr>\n",
       "    <tr>\n",
       "      <th>AG</th>\n",
       "      <td>1.062500</td>\n",
       "      <td>1014.0</td>\n",
       "      <td>Antigua and Barbuda</td>\n",
       "    </tr>\n",
       "    <tr>\n",
       "      <th>AI</th>\n",
       "      <td>0.200000</td>\n",
       "      <td>603.0</td>\n",
       "      <td>Anguilla</td>\n",
       "    </tr>\n",
       "  </tbody>\n",
       "</table>\n",
       "</div>"
      ],
      "text/plain": [
       "         power     elo                  name\n",
       "code                                        \n",
       "AD    0.540541  1113.0               Andorra\n",
       "AE    1.511628  1508.0  United Arab Emirates\n",
       "AF    1.000000  1114.0           Afghanistan\n",
       "AG    1.062500  1014.0   Antigua and Barbuda\n",
       "AI    0.200000   603.0              Anguilla"
      ]
     },
     "execution_count": 14,
     "metadata": {},
     "output_type": "execute_result"
    }
   ],
   "source": [
    "stats = run_country_stats_pipeline(\n",
    "    df_results=df_results,\n",
    "    df_iso=df_iso,\n",
    "    df_elo=df_elo,\n",
    "    min_year=2020,\n",
    "    max_goals=10,\n",
    ")\n",
    "stats.head()"
   ]
  },
  {
   "cell_type": "code",
   "execution_count": 15,
   "id": "399dc32b-0696-46ad-afcb-9fc1b33ec881",
   "metadata": {
    "tags": []
   },
   "outputs": [
    {
     "data": {
      "text/html": [
       "<div>\n",
       "<style scoped>\n",
       "    .dataframe tbody tr th:only-of-type {\n",
       "        vertical-align: middle;\n",
       "    }\n",
       "\n",
       "    .dataframe tbody tr th {\n",
       "        vertical-align: top;\n",
       "    }\n",
       "\n",
       "    .dataframe thead th {\n",
       "        text-align: right;\n",
       "    }\n",
       "</style>\n",
       "<table border=\"1\" class=\"dataframe\">\n",
       "  <thead>\n",
       "    <tr style=\"text-align: right;\">\n",
       "      <th></th>\n",
       "      <th>power</th>\n",
       "      <th>is_friendly</th>\n",
       "      <th>scored</th>\n",
       "      <th>elo_diff</th>\n",
       "    </tr>\n",
       "  </thead>\n",
       "  <tbody>\n",
       "    <tr>\n",
       "      <th>5817</th>\n",
       "      <td>1.412500</td>\n",
       "      <td>True</td>\n",
       "      <td>0</td>\n",
       "      <td>-207</td>\n",
       "    </tr>\n",
       "    <tr>\n",
       "      <th>8896</th>\n",
       "      <td>0.402985</td>\n",
       "      <td>False</td>\n",
       "      <td>0</td>\n",
       "      <td>-227</td>\n",
       "    </tr>\n",
       "    <tr>\n",
       "      <th>6783</th>\n",
       "      <td>0.956522</td>\n",
       "      <td>False</td>\n",
       "      <td>0</td>\n",
       "      <td>-419</td>\n",
       "    </tr>\n",
       "    <tr>\n",
       "      <th>8893</th>\n",
       "      <td>0.777778</td>\n",
       "      <td>False</td>\n",
       "      <td>0</td>\n",
       "      <td>-58</td>\n",
       "    </tr>\n",
       "    <tr>\n",
       "      <th>2837</th>\n",
       "      <td>0.384615</td>\n",
       "      <td>False</td>\n",
       "      <td>0</td>\n",
       "      <td>-541</td>\n",
       "    </tr>\n",
       "  </tbody>\n",
       "</table>\n",
       "</div>"
      ],
      "text/plain": [
       "         power  is_friendly  scored  elo_diff\n",
       "5817  1.412500         True       0      -207\n",
       "8896  0.402985        False       0      -227\n",
       "6783  0.956522        False       0      -419\n",
       "8893  0.777778        False       0       -58\n",
       "2837  0.384615        False       0      -541"
      ]
     },
     "execution_count": 15,
     "metadata": {},
     "output_type": "execute_result"
    }
   ],
   "source": [
    "df = run_dataset_pipeline(\n",
    "    df_results=df_results,\n",
    "    df_iso=df_iso,\n",
    "    df_elo=df_elo,\n",
    "    min_year=2016,\n",
    "    max_goals=10,\n",
    ")\n",
    "df.sort_values(\"scored\").head()"
   ]
  },
  {
   "cell_type": "markdown",
   "id": "9eb4b4c1-4d7c-4068-8ba7-fc9de3e9c8b3",
   "metadata": {},
   "source": [
    "---"
   ]
  },
  {
   "cell_type": "code",
   "execution_count": 16,
   "id": "f56ff213-1fc2-4fed-b8bf-bff83aec163f",
   "metadata": {
    "tags": []
   },
   "outputs": [
    {
     "name": "stderr",
     "output_type": "stream",
     "text": [
      "Matplotlib is building the font cache; this may take a moment.\n"
     ]
    },
    {
     "data": {
      "text/plain": [
       "<matplotlib.collections.PathCollection at 0x13704bfe0>"
      ]
     },
     "execution_count": 16,
     "metadata": {},
     "output_type": "execute_result"
    },
    {
     "data": {
      "image/png": "[encoded data removed]",
      "text/plain": [
       "<Figure size 1000x600 with 1 Axes>"
      ]
     },
     "metadata": {},
     "output_type": "display_data"
    }
   ],
   "source": [
    "import matplotlib.pyplot as plt\n",
    "\n",
    "plt.figure(figsize=(10, 6))\n",
    "\n",
    "plt.scatter(df[\"elo_diff\"], df[\"scored\"] - df[\"power\"], marker='o', color='blue')"
   ]
  },
  {
   "cell_type": "code",
   "execution_count": 17,
   "id": "64807e97-afff-44be-936f-250ff5070806",
   "metadata": {
    "tags": []
   },
   "outputs": [
    {
     "name": "stdout",
     "output_type": "stream",
     "text": [
      "[LightGBM] [Info] Auto-choosing col-wise multi-threading, the overhead of testing was 0.000502 seconds.\n",
      "You can set `force_col_wise=true` to remove the overhead.\n",
      "[LightGBM] [Info] Total Bins 257\n",
      "[LightGBM] [Info] Number of data points in the train set: 9991, number of used features: 2\n",
      "[LightGBM] [Info] Start training from score -0.006077\n",
      "Mean Squared Error: 1.5415910707535856\n",
      "R-squared: 0.1940564610439296\n"
     ]
    },
    {
     "data": {
      "image/png": "[encoded data removed]",
      "text/plain": [
       "<Figure size 640x480 with 1 Axes>"
      ]
     },
     "metadata": {},
     "output_type": "display_data"
    }
   ],
   "source": [
    "import pandas as pd\n",
    "from sklearn.model_selection import train_test_split\n",
    "from sklearn.metrics import mean_squared_error, r2_score\n",
    "import lightgbm as lgb\n",
    "import matplotlib.pyplot as plt\n",
    "import numpy as np\n",
    "\n",
    "# Features and target variable\n",
    "X = df[['elo_diff', \"is_friendly\"]]\n",
    "y = df['scored'] - df['power']\n",
    "\n",
    "# Split the data into training and testing sets\n",
    "X_train, X_test, y_train, y_test = train_test_split(X, y, test_size=0.15, random_state=444)\n",
    "\n",
    "\n",
    "# Create the LightGBM dataset\n",
    "train_data = lgb.Dataset(X_train, label=y_train)\n",
    "test_data = lgb.Dataset(X_test, label=y_test, reference=train_data)\n",
    "\n",
    "# Set parameters for LightGBM\n",
    "params = {\n",
    "    'objective': 'regression',\n",
    "    'metric': 'mse',\n",
    "    'boosting_type': 'gbdt',\n",
    "    'num_leaves': 31,\n",
    "    'learning_rate': 0.05,\n",
    "    'feature_fraction': 0.9\n",
    "}\n",
    "\n",
    "# Train the model\n",
    "lgb_model = lgb.train(params, train_data, num_boost_round=1000, valid_sets=[train_data, test_data])\n",
    "\n",
    "# Make predictions\n",
    "y_pred = lgb_model.predict(X_test, num_iteration=lgb_model.best_iteration)\n",
    "\n",
    "# Evaluate the model\n",
    "mse = mean_squared_error(y_test, y_pred)\n",
    "r2 = r2_score(y_test, y_pred)\n",
    "\n",
    "print(f'Mean Squared Error: {mse}')\n",
    "print(f'R-squared: {r2}')\n",
    "\n",
    "# Optional: Plot the predictions vs actual values\n",
    "plt.scatter(y_test, y_pred)\n",
    "plt.xlabel('Actual Values')\n",
    "plt.ylabel('Predicted Values')\n",
    "plt.title('Actual vs Predicted Values')\n",
    "plt.show()"
   ]
  },
  {
   "cell_type": "code",
   "execution_count": 18,
   "id": "bb9b4e26-18b8-4a87-a9af-a2857afe3600",
   "metadata": {},
   "outputs": [
    {
     "data": {
      "text/plain": [
       "<lightgbm.basic.Booster at 0x157fcfad0>"
      ]
     },
     "execution_count": 18,
     "metadata": {},
     "output_type": "execute_result"
    }
   ],
   "source": [
    "lgb_model.save_model('lightgbm_model.txt')"
   ]
  },
  {
   "cell_type": "code",
   "execution_count": 19,
   "id": "0979d5b4-a330-4a56-82e0-cdb155909852",
   "metadata": {},
   "outputs": [
    {
     "name": "stdout",
     "output_type": "stream",
     "text": [
      "Mean Squared Error: 1.465065143907384\n",
      "R-squared: 0.1392504675901184\n",
      "Coefficients: [0.00199561]\n",
      "Intercept: 0.010921488859513832\n"
     ]
    },
    {
     "data": {
      "image/png": "[encoded data removed]",
      "text/plain": [
       "<Figure size 640x480 with 1 Axes>"
      ]
     },
     "metadata": {},
     "output_type": "display_data"
    }
   ],
   "source": [
    "from sklearn.linear_model import LinearRegression\n",
    "\n",
    "# Features and target variable\n",
    "X = df[['elo_diff']]\n",
    "y = df['scored'] - df['power']\n",
    "\n",
    "\n",
    "# Split the data into training and testing sets\n",
    "X_train, X_test, y_train, y_test = train_test_split(X, y, test_size=0.2, random_state=42)\n",
    "\n",
    "# Train the linear regression model\n",
    "reg_model = LinearRegression()\n",
    "reg_model.fit(X_train.values, y_train.values)\n",
    "\n",
    "# Make predictions\n",
    "y_pred = reg_model.predict(X_test.values)\n",
    "\n",
    "# Evaluate the model\n",
    "mse = mean_squared_error(y_test.values, y_pred)\n",
    "r2 = r2_score(y_test, y_pred)\n",
    "\n",
    "print(f'Mean Squared Error: {mse}')\n",
    "print(f'R-squared: {r2}')\n",
    "\n",
    "# Print model coefficients\n",
    "print('Coefficients:', reg_model.coef_)\n",
    "print('Intercept:', reg_model.intercept_)\n",
    "\n",
    "# Optional: Plot the predictions vs actual values\n",
    "plt.scatter(y_test, y_pred)\n",
    "plt.xlabel('Actual Values')\n",
    "plt.ylabel('Predicted Values')\n",
    "plt.title('Actual vs Predicted Values')\n",
    "plt.show()"
   ]
  },
  {
   "cell_type": "markdown",
   "id": "1f19d5ea-6760-4883-b101-65eb58163965",
   "metadata": {},
   "source": [
    "---"
   ]
  },
  {
   "cell_type": "code",
   "execution_count": 20,
   "id": "3d15e0da-0504-40a6-8a89-a1a37becc509",
   "metadata": {
    "tags": []
   },
   "outputs": [],
   "source": [
    "from sklearn.linear_model._base import LinearRegression as SklearnRegressor\n",
    "from lightgbm.basic import Booster as LgbBooster\n",
    "from typing import Any, Literal\n",
    "from functools import cached_property\n",
    "from dataclasses import dataclass\n",
    "import numpy as np\n",
    "from scipy.stats import mode\n",
    "\n",
    "@dataclass\n",
    "class Team:\n",
    "    elo: int\n",
    "    power: float\n",
    "    name: str\n",
    "\n",
    "class ScorePredictor:\n",
    "    def __init__(\n",
    "        self,\n",
    "        regressor: SklearnRegressor | None = None,\n",
    "        booster: LgbBooster | None = None,\n",
    "        default_samples: int = 5,\n",
    "    ) -> None:\n",
    "        if regressor is None and booster is None:\n",
    "            raise ValueError(\"At least one of the regressor and booster must be set\")\n",
    "            \n",
    "        self.default_samples = default_samples\n",
    "        \n",
    "        self.models: dict[Literal[\"linear\", \"gbm\"], Any] = {}\n",
    "        if regressor is not None:\n",
    "            self.models[\"linear\"] = regressor\n",
    "        if booster is not None:\n",
    "            self.models[\"gbm\"] = booster\n",
    "            \n",
    "    @staticmethod\n",
    "    def sample(lambda_: float, n_samples: int) -> int:            \n",
    "        samples = np.random.poisson(lambda_, n_samples)\n",
    "        return mode(samples, axis=None).mode\n",
    "        \n",
    "        \n",
    "    def predict_linear(self, home: Team, away: Team) -> tuple[float, float]:\n",
    "        elo_diff = home.elo - away.elo\n",
    "        powers = self.models[\"linear\"].predict(\n",
    "            (\n",
    "                (elo_diff, ), \n",
    "                (-elo_diff, )\n",
    "            )\n",
    "        )\n",
    "        return max(home.power + powers[0], 0), max(away.power + powers[1], 0)\n",
    "    \n",
    "    def predict_gbm(self, home: Team, away: Team) -> tuple[float, float]:\n",
    "        elo_diff = home.elo - away.elo\n",
    "        powers = self.models[\"gbm\"].predict(\n",
    "            np.array((\n",
    "                (elo_diff, False), \n",
    "                (-elo_diff, False)\n",
    "            ))\n",
    "        )\n",
    "        return max(home.power + powers[0], 0), max(away.power + powers[1], 0)\n",
    "        \n",
    "    def predict(\n",
    "        self, \n",
    "        home: Team, \n",
    "        away: Team, \n",
    "        model_type: Literal[\"linear\", \"gbm\"] | None = None,\n",
    "        n_samples: int | None = None,\n",
    "        show_power: bool = False,\n",
    "    ) -> tuple[int, int]:\n",
    "        if n_samples is None or n_samples <= 0:\n",
    "            n_samples = self.default_samples\n",
    "            \n",
    "\n",
    "        match model_type:\n",
    "            case \"linear\":\n",
    "                home_power, away_power = self.predict_linear(home=home, away=away)\n",
    "            case \"gbm\":\n",
    "                home_power, away_power = self.predict_gbm(home=home, away=away)\n",
    "            case _:\n",
    "                home_power, away_power = home.power, away.power\n",
    "                \n",
    "        if show_power:\n",
    "            print(f\"{home.name} {home_power} - {away_power} {away.name}\")\n",
    "\n",
    "        return (\n",
    "            ScorePredictor.sample(home_power, n_samples=n_samples),\n",
    "            ScorePredictor.sample(away_power, n_samples=n_samples)\n",
    "        )\n",
    "    \n",
    "    def display_score(\n",
    "        self, \n",
    "        home: Team, \n",
    "        away: Team, \n",
    "        model_type: Literal[\"linear\", \"gbm\"] | None = None,\n",
    "        n_samples: int | None = None,\n",
    "        show_power: bool = False,\n",
    "    ) -> str:\n",
    "        goals = self.predict(\n",
    "            home=home, \n",
    "            away=away, \n",
    "            model_type=model_type,\n",
    "            n_samples=n_samples,\n",
    "            show_power=show_power,\n",
    "        )\n",
    "        return f\"{home.name} {goals[0]} - {goals[1]} {away.name}\"\n",
    "            "
   ]
  },
  {
   "cell_type": "code",
   "execution_count": 21,
   "id": "a35ff895-9388-4c98-99e4-78b585d09fb2",
   "metadata": {
    "tags": []
   },
   "outputs": [
    {
     "data": {
      "text/plain": [
       "Team(elo=1949.0, power=1.8604651162790697, name='Italy')"
      ]
     },
     "execution_count": 21,
     "metadata": {},
     "output_type": "execute_result"
    }
   ],
   "source": [
    "team_lookup = {\n",
    "    ind: Team(power=stats.loc[ind].power, elo=stats.loc[ind].elo, name=stats.loc[ind][\"name\"]) for ind in stats.index\n",
    "}\n",
    "team_lookup[\"IT\"]"
   ]
  },
  {
   "cell_type": "code",
   "execution_count": 22,
   "id": "958e2106-a867-48f9-84f6-a9b0d7036aaa",
   "metadata": {
    "tags": []
   },
   "outputs": [],
   "source": [
    "p = ScorePredictor(\n",
    "    regressor=reg_model,\n",
    "    booster=lgb_model,\n",
    ")"
   ]
  },
  {
   "cell_type": "code",
   "execution_count": 23,
   "id": "50d49a00-9101-4ef0-bb01-41c7d2c22bc1",
   "metadata": {
    "tags": []
   },
   "outputs": [
    {
     "name": "stdout",
     "output_type": "stream",
     "text": [
      "Poland 1.2621920773297688 - 2.731109674173614 Netherlands\n",
      "Linear Model:  Poland 1 - 2 Netherlands\n"
     ]
    }
   ],
   "source": [
    "n_samples = 7\n",
    "home_team = \"PL\"\n",
    "away_team = \"NL\"\n",
    "\n",
    "home = team_lookup[home_team]\n",
    "away = team_lookup[away_team]\n",
    "\n",
    "print(\"Linear Model: \", p.display_score(home, away, n_samples=n_samples, model_type=\"linear\", show_power=True))\n",
    "# print(\"GBM Model:    \", p.display_score(home, away, n_samples=n_samples, model_type=\"gbm\"))\n",
    "# print(\"No Model:     \", p.display_score(home, away, n_samples=n_samples))"
   ]
  },
  {
   "cell_type": "code",
   "execution_count": null,
   "id": "e6add2c6-89e0-4fb8-b342-9116a8080e58",
   "metadata": {},
   "outputs": [],
   "source": []
  },
  {
   "cell_type": "code",
   "execution_count": null,
   "id": "c9d686d1-0b93-46dc-b9a3-363f629827db",
   "metadata": {},
   "outputs": [
    {
     "name": "stdin",
     "output_type": "stream",
     "text": [
      "Home PR\n",
      "Away CZ\n"
     ]
    },
    {
     "name": "stdout",
     "output_type": "stream",
     "text": [
      "Team(elo=1130.0, power=2.3333333333333335, name='Puerto Rico') Team(elo=1772.0, power=1.6428571428571428, name='Czech Republic')\n",
      "Linear Model:  Puerto Rico 1 - 3 Czech Republic\n",
      "GBM Model:     Puerto Rico 2 - 3 Czech Republic\n"
     ]
    },
    {
     "name": "stdin",
     "output_type": "stream",
     "text": [
      "Home PR\n",
      "Away CZ\n"
     ]
    },
    {
     "name": "stdout",
     "output_type": "stream",
     "text": [
      "Team(elo=1130.0, power=2.3333333333333335, name='Puerto Rico') Team(elo=1772.0, power=1.6428571428571428, name='Czech Republic')\n",
      "Linear Model:  Puerto Rico 1 - 2 Czech Republic\n",
      "GBM Model:     Puerto Rico 1 - 3 Czech Republic\n"
     ]
    },
    {
     "name": "stdin",
     "output_type": "stream",
     "text": [
      "Home PT\n",
      "Away CZ\n"
     ]
    },
    {
     "name": "stdout",
     "output_type": "stream",
     "text": [
      "Team(elo=2015.0, power=2.595744680851064, name='Portugal') Team(elo=1772.0, power=1.6428571428571428, name='Czech Republic')\n",
      "Linear Model:  Portugal 3 - 2 Czech Republic\n",
      "GBM Model:     Portugal 2 - 0 Czech Republic\n"
     ]
    },
    {
     "name": "stdin",
     "output_type": "stream",
     "text": [
      "Home TR\n",
      "Away GE\n"
     ]
    },
    {
     "name": "stdout",
     "output_type": "stream",
     "text": [
      "Team(elo=1757.0, power=2.0, name='Turkey') Team(elo=1650.0, power=1.5588235294117647, name='Georgia')\n",
      "Linear Model:  Turkey 1 - 0 Georgia\n",
      "GBM Model:     Turkey 2 - 2 Georgia\n"
     ]
    }
   ],
   "source": [
    "while True:\n",
    "    x = input(\"Home\")\n",
    "    \n",
    "    if x.lower() == \"exit\":\n",
    "        break\n",
    "    \n",
    "    y = input(\"Away\")\n",
    "    if y.lower() == \"exit\":\n",
    "        break\n",
    "        \n",
    "    home = team_lookup[x]\n",
    "    away = team_lookup[y]\n",
    "    \n",
    "    print(home, away)\n",
    "\n",
    "    print(\"Linear Model: \", p.display_score(home, away, n_samples=n_samples, model_type=\"linear\"))\n",
    "    print(\"GBM Model:    \", p.display_score(home, away, n_samples=n_samples, model_type=\"gbm\"))\n"
   ]
  },
  {
   "cell_type": "code",
   "execution_count": null,
   "id": "63396072-e114-4fe2-bcf3-7fc9266a764c",
   "metadata": {},
   "outputs": [],
   "source": [
    "R"
   ]
  },
  {
   "cell_type": "code",
   "execution_count": null,
   "id": "e5204e8a-5f3b-4144-9856-957206a45be1",
   "metadata": {},
   "outputs": [],
   "source": []
  }
 ],
 "metadata": {
  "kernelspec": {
   "display_name": "Python 3 (ipykernel)",
   "language": "python",
   "name": "python3"
  },
  "language_info": {
   "codemirror_mode": {
    "name": "ipython",
    "version": 3
   },
   "file_extension": ".py",
   "mimetype": "text/x-python",
   "name": "python",
   "nbconvert_exporter": "python",
   "pygments_lexer": "ipython3",
   "version": "3.12.3"
  }
 },
 "nbformat": 4,
 "nbformat_minor": 5
}
